{
 "cells": [
  {
   "cell_type": "code",
   "execution_count": 1,
   "metadata": {},
   "outputs": [
    {
     "name": "stdout",
     "output_type": "stream",
     "text": [
      "SER ACERCA UN ASTEROIRE\n"
     ]
    }
   ],
   "source": [
    "asteroide=49  #velocidad en kilometros\n",
    "\n",
    "if asteroide>25:\n",
    "    print('SER ACERCA UN ASTEROIRE')\n",
    "else: \n",
    "     print('VIVIRAS TODAVIA')"
   ]
  },
  {
   "cell_type": "code",
   "execution_count": 2,
   "metadata": {},
   "outputs": [
    {
     "name": "stdout",
     "output_type": "stream",
     "text": [
      "no paso ninjuna luz\n"
     ]
    }
   ],
   "source": [
    "asteroide = 19 #velicidad del asteroide\n",
    "if asteroide > 20:#si es mayor a 20\n",
    "    print('Salio una luz')\n",
    "elif asteroide == 20:\n",
    "    print('paso una luz')\n",
    "else:\n",
    "    print('no paso ninjuna luz')"
   ]
  },
  {
   "cell_type": "code",
   "execution_count": 4,
   "metadata": {},
   "outputs": [
    {
     "name": "stdout",
     "output_type": "stream",
     "text": [
      "ahi viene el asteroide corre\n"
     ]
    }
   ],
   "source": [
    "VA = 35 #velocidad del asteroide\n",
    "TM = 40 #tamano del asteroide\n",
    "if VA > 25 and TM > 25:\n",
    "    print(\"ahi viene el asteroide corre\")\n",
    "elif VA >= 20:\n",
    "    print(\"una pequeña luz\")\n",
    "elif TM < 25:\n",
    "    print(\"esta oscuro \")\n",
    "else:\n",
    "    print(\"esta oscuro\")"
   ]
  }
 ],
 "metadata": {
  "interpreter": {
   "hash": "67e894a9ac36f561c6f0d36c8f26046573f05477f19af032d2c08ab330cb52ef"
  },
  "kernelspec": {
   "display_name": "Python 3.10.2 ('env': venv)",
   "language": "python",
   "name": "python3"
  },
  "language_info": {
   "codemirror_mode": {
    "name": "ipython",
    "version": 3
   },
   "file_extension": ".py",
   "mimetype": "text/x-python",
   "name": "python",
   "nbconvert_exporter": "python",
   "pygments_lexer": "ipython3",
   "version": "3.10.2"
  },
  "orig_nbformat": 4
 },
 "nbformat": 4,
 "nbformat_minor": 2
}
