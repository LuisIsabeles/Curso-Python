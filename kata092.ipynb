{
 "cells": [
  {
   "cell_type": "code",
   "execution_count": null,
   "metadata": {},
   "outputs": [],
   "source": [
    "def generate_report(tanque1, tanque2, tanque3):\n",
    "    total_promedio = (tanque1 + tanque2 + tanque3) / 3\n",
    "    return f\"\"\"Fuel Report:\n",
    "    Total promedios: {total_promedio}%\n",
    "    tanaque 1: {tanque1}%\n",
    "    tanaque 2: {tanque2}%\n",
    "    tanaque 3: {tanque3}% \n",
    "    \"\"\""
   ]
  },
  {
   "cell_type": "code",
   "execution_count": null,
   "metadata": {},
   "outputs": [],
   "source": [
    "print(generate_report(50, 7, 14))"
   ]
  },
  {
   "cell_type": "code",
   "execution_count": null,
   "metadata": {},
   "outputs": [],
   "source": [
    "def promedio(values):\n",
    "    total = sum(values)\n",
    "    numero_objetos = len(values)\n",
    "    return total / numero_objetos\n",
    "promedio([80, 85, 81]) "
   ]
  },
  {
   "cell_type": "code",
   "execution_count": null,
   "metadata": {},
   "outputs": [],
   "source": [
    "def generate_report(tanque1, tanque2, tanque3):\n",
    "    return f\"\"\"REPORTE FINAL:\n",
    "    Total promedio: {promedio([tanque1, tanque2, tanque3])}%\n",
    "    Tanque 1: {tanque1}%\n",
    "    Tanque 2: {tanque2}%\n",
    "    Tanque 3: {tanque3}% \n",
    "    \"\"\"\n",
    "print(generate_report(88, 76, 70))"
   ]
  },
  {
   "cell_type": "markdown",
   "metadata": {},
   "source": [
    "Ejercicio2"
   ]
  },
  {
   "cell_type": "code",
   "execution_count": null,
   "metadata": {},
   "outputs": [],
   "source": [
    "def mission_report(antes_de_tiempo, durante_el_vuelo, destino, extra, tanque1):\n",
    "    return f\"\"\"\n",
    "    Mision a la{destino}\n",
    "    tiempor total de viaje: {antes_de_tiempo + durante_el_vuelo} minutes\n",
    "    combustible restante: {extra + tanque1} galones\n",
    "    \"\"\"\n",
    "print(mission_report(26, 78, \" Luna\", 1585476, 59149258))"
   ]
  },
  {
   "cell_type": "code",
   "execution_count": null,
   "metadata": {},
   "outputs": [],
   "source": [
    "def mission_report(destino, *minutos, **deposito):\n",
    "    return f\"\"\"\n",
    "   mision a la {destino}\n",
    "    tiempo total de viaje: {sum(minutos)} minutes\n",
    "    combustibel restante: {sum(deposito.values())}\n",
    "    \"\"\"\n",
    "print(mission_report(\" Luna\", 10, 15, 51, principal=895952, reserva=1325284))"
   ]
  },
  {
   "cell_type": "code",
   "execution_count": null,
   "metadata": {},
   "outputs": [],
   "source": [
    "def Reporte_mision(destino, *minutos, **reserva):\n",
    "    return f\"\"\"\n",
    "    Mision a la luna {destino}\n",
    "    tiempor de viaje total: {sum(minutos)} minutes\n",
    "    combustible sobrante: {sum(reserva.values())}\n",
    "    \"\"\"\n",
    "\n",
    "print(Reporte_mision(\" Luna\", 55, 315, 12, principal=895955522, reserva=13252842))"
   ]
  }
 ],
 "metadata": {
  "interpreter": {
   "hash": "67e894a9ac36f561c6f0d36c8f26046573f05477f19af032d2c08ab330cb52ef"
  },
  "kernelspec": {
   "display_name": "Python 3.10.2 ('env': venv)",
   "language": "python",
   "name": "python3"
  },
  "language_info": {
   "codemirror_mode": {
    "name": "ipython",
    "version": 3
   },
   "file_extension": ".py",
   "mimetype": "text/x-python",
   "name": "python",
   "nbconvert_exporter": "python",
   "pygments_lexer": "ipython3",
   "version": "3.10.2"
  },
  "orig_nbformat": 4
 },
 "nbformat": 4,
 "nbformat_minor": 2
}
